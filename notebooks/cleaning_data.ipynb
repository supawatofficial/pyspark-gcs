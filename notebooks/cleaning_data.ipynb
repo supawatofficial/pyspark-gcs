{
 "cells": [
  {
   "cell_type": "markdown",
   "id": "d0c52ac1-35d8-4626-88ab-dae2ded59ebd",
   "metadata": {},
   "source": [
    "## PySpark GCS Project"
   ]
  },
  {
   "cell_type": "markdown",
   "id": "097b25f6-efdd-48d5-bfe1-db1021577244",
   "metadata": {},
   "source": [
    "### Connection & Read Data from GCS"
   ]
  },
  {
   "cell_type": "code",
   "execution_count": 1,
   "id": "01bd6873-ed88-48f4-9519-c8d6725b987e",
   "metadata": {},
   "outputs": [],
   "source": [
    "import pyspark\n",
    "from pyspark.sql import SparkSession\n",
    "from pyspark.conf import SparkConf\n",
    "from pyspark.context import SparkContext"
   ]
  },
  {
   "cell_type": "code",
   "execution_count": 2,
   "id": "f9dcd9c0-ac76-42a3-b641-7087f0ca02a0",
   "metadata": {},
   "outputs": [],
   "source": [
    "credentials_location = \"/home/jovyan/cred/credentials.json\"\n",
    "\n",
    "conf = SparkConf() \\\n",
    "    .setMaster(\"local[*]\") \\\n",
    "    .setAppName(\"Test Connection\") \\\n",
    "    .set(\"spark.jars\", \"https://storage.googleapis.com/hadoop-lib/gcs/gcs-connector-hadoop3-latest.jar\") \\\n",
    "    .set(\"spark.hadoop.google.cloud.auth.service.account.enable\", \"true\") \\\n",
    "    .set(\"spark.hadoop.google.cloud.auth.service.account.json.keyfile\", credentials_location)"
   ]
  },
  {
   "cell_type": "code",
   "execution_count": 3,
   "id": "c03000d8-c666-4837-8aa9-1531c50948eb",
   "metadata": {},
   "outputs": [],
   "source": [
    "sc = SparkContext(conf=conf)\n",
    "\n",
    "hadoop_conf = sc._jsc.hadoopConfiguration()\n",
    "\n",
    "hadoop_conf.set(\"fs.AbstractFileSystem.gs.impl\",  \"com.google.cloud.hadoop.fs.gcs.GoogleHadoopFS\")\n",
    "hadoop_conf.set(\"fs.gs.impl\", \"com.google.cloud.hadoop.fs.gcs.GoogleHadoopFileSystem\")\n",
    "hadoop_conf.set(\"fs.gs.auth.service.account.json.keyfile\", credentials_location)\n",
    "hadoop_conf.set(\"fs.gs.auth.service.account.enable\", \"true\")"
   ]
  },
  {
   "cell_type": "code",
   "execution_count": 4,
   "id": "ca363c52-da31-45b7-890c-cea8a1824731",
   "metadata": {},
   "outputs": [],
   "source": [
    "spark = SparkSession.builder \\\n",
    "    .config(conf=sc.getConf()) \\\n",
    "    .getOrCreate()"
   ]
  },
  {
   "cell_type": "code",
   "execution_count": 5,
   "id": "6e854f98-909a-4742-b232-26465edd16f7",
   "metadata": {},
   "outputs": [
    {
     "data": {
      "text/html": [
       "\n",
       "            <div>\n",
       "                <p><b>SparkSession - in-memory</b></p>\n",
       "                \n",
       "        <div>\n",
       "            <p><b>SparkContext</b></p>\n",
       "\n",
       "            <p><a href=\"http://4c92a5a57625:4040\">Spark UI</a></p>\n",
       "\n",
       "            <dl>\n",
       "              <dt>Version</dt>\n",
       "                <dd><code>v3.5.0</code></dd>\n",
       "              <dt>Master</dt>\n",
       "                <dd><code>local[*]</code></dd>\n",
       "              <dt>AppName</dt>\n",
       "                <dd><code>Test Connection</code></dd>\n",
       "            </dl>\n",
       "        </div>\n",
       "        \n",
       "            </div>\n",
       "        "
      ],
      "text/plain": [
       "<pyspark.sql.session.SparkSession at 0x7e42be10d390>"
      ]
     },
     "execution_count": 5,
     "metadata": {},
     "output_type": "execute_result"
    }
   ],
   "source": [
    "spark"
   ]
  },
  {
   "cell_type": "code",
   "execution_count": 6,
   "id": "9b1f2dc2-da4c-4d30-9d37-c5d9d258430c",
   "metadata": {},
   "outputs": [],
   "source": [
    "df = spark.read.csv(\"gs://supawat-workshop-bucket/raw_data/financial_transactions.csv\", header=True)"
   ]
  },
  {
   "cell_type": "code",
   "execution_count": 7,
   "id": "5b92cf14-f738-4493-983b-34e9a07699d2",
   "metadata": {},
   "outputs": [
    {
     "name": "stdout",
     "output_type": "stream",
     "text": [
      "root\n",
      " |-- transaction_id: string (nullable = true)\n",
      " |-- customer_id: string (nullable = true)\n",
      " |-- transaction_date: string (nullable = true)\n",
      " |-- amount: string (nullable = true)\n",
      " |-- merchant: string (nullable = true)\n",
      " |-- category: string (nullable = true)\n",
      " |-- payment_method: string (nullable = true)\n",
      " |-- city: string (nullable = true)\n",
      " |-- country: string (nullable = true)\n",
      " |-- status: string (nullable = true)\n",
      "\n"
     ]
    }
   ],
   "source": [
    "df.printSchema()"
   ]
  },
  {
   "cell_type": "code",
   "execution_count": 8,
   "id": "dc740ba8-792b-4b8e-b816-a03b8a601bd8",
   "metadata": {},
   "outputs": [
    {
     "name": "stdout",
     "output_type": "stream",
     "text": [
      "+--------------+-----------+----------------+-------+-------------+-----------------+--------------+--------------+------------+---------+\n",
      "|transaction_id|customer_id|transaction_date| amount|     merchant|         category|payment_method|          city|     country|   status|\n",
      "+--------------+-----------+----------------+-------+-------------+-----------------+--------------+--------------+------------+---------+\n",
      "|         T0001|       C164|      2025-09-16|  714.9|  Tops Market|Mobile & Internet|   Credit Card|     khon kaen|    THAILAND|   Failed|\n",
      "|         T0002|       C167|      2025/09/23|   NULL|Central World|         Shopping|     PromptPay|        phuket|    thailand|  Pending|\n",
      "|         T0003|       C025|      20-09-2025|3654.06| SCB Easy Pay|         Shopping|          Cash|       hat yai|    thailand|   Failed|\n",
      "|         T0004|       C059|      2025-09-19|1913.03|   TrueMove H|         Shopping|          Cash|       hat yai|    THAILAND|   Failed|\n",
      "|         T0005|       C187|      18/09/2025|4628.45| BTS Skytrain|  Food & Beverage|   Credit Card|       Pattaya|    thailand|Completed|\n",
      "|         T0006|       C146|      20/09/2025|4574.45|         Grab|        Groceries|          Cash|     Pattaya  |    Thailand|Completed|\n",
      "|         T0007|       C036|      2025/09/23|-263.82| SCB Easy Pay|Mobile & Internet|         Debit|     khon kaen|    thailand|   Failed|\n",
      "|         T0008|       C138|      19-09-2025|2279.54|         Grab|        Transport|   Credit Card|        PHUKET|    THAILAND|  Pending|\n",
      "|         T0009|       C196|      2025-09-17|  577.1|         Grab|        Transport|   Credit Card|       pattaya|    THAILAND|Completed|\n",
      "|         T0010|       C169|      22/09/2025|2127.23|  Tops Market|        Groceries|          Cash|       Hat Yai|  Thailand  |   Failed|\n",
      "|         T0011|       C116|      16/09/2025|2949.78|         NULL|        Groceries|          NULL|       Bangkok|    thailand|   Failed|\n",
      "|         T0012|       C061|      2025/09/19|4678.86|  Amazon Café|Mobile & Internet|     PromptPay|     Hat Yai  |    Thailand|  Pending|\n",
      "|         T0013|       C106|      2025-09-22| 510.12|   TrueMove H|  Food & Beverage|     PromptPay|  Chiang Mai  |    THAILAND|  Pending|\n",
      "|         T0014|       C119|      2025-09-18|2760.62|  Tops Market|  Food & Beverage|     PromptPay|     Pattaya  |    THAILAND|  Pending|\n",
      "|         T0015|       C016|      2025/09/17|    0.0|  Amazon Café|        Groceries|         Debit|        PHUKET|    thailand|   Failed|\n",
      "|         T0016|       C189|      2025-09-23| 2929.2|  Tops Market|    Entertainment|          NULL|       BANGKOK|  Thailand  |Completed|\n",
      "|         T0017|       C146|      2025-09-18|2926.69|         Grab|        Groceries|          Cash|       Hat Yai|  Thailand  |  Pending|\n",
      "|         T0018|       C193|      2025-09-16|4980.56| BTS Skytrain|        Transport|   Credit Card|        Phuket|    THAILAND|  Pending|\n",
      "|         T0019|       C140|      2025-09-19|4660.15|Central World|  Food & Beverage|     PromptPay|     KHON KAEN|    Thailand|Completed|\n",
      "|         T0020|       C176|      25-09-2025|4542.63| SCB Easy Pay|             NULL|     PromptPay|        PHUKET|  Thailand  |   Failed|\n",
      "+--------------+-----------+----------------+-------+-------------+-----------------+--------------+--------------+------------+---------+\n",
      "only showing top 20 rows\n",
      "\n"
     ]
    }
   ],
   "source": [
    "df.show()"
   ]
  },
  {
   "cell_type": "code",
   "execution_count": 9,
   "id": "9958e800-3a0f-4e82-b933-f6c2953df2f6",
   "metadata": {},
   "outputs": [],
   "source": [
    "from pyspark.sql import functions as F\n",
    "from pyspark.sql import types as T"
   ]
  },
  {
   "cell_type": "markdown",
   "id": "ba66ac40-3e39-4b71-b523-42cd2a57005f",
   "metadata": {},
   "source": [
    "### Standardize Data"
   ]
  },
  {
   "cell_type": "code",
   "execution_count": 10,
   "id": "45464f03-a4ab-4d17-a971-97047e7ef445",
   "metadata": {},
   "outputs": [],
   "source": [
    "df = df.withColumn(\"transaction_id\", F.trim(F.upper(F.col(\"transaction_id\"))))\n",
    "df = df.withColumn(\"customer_id\", F.trim(F.upper(F.col(\"customer_id\"))))"
   ]
  },
  {
   "cell_type": "code",
   "execution_count": 11,
   "id": "f3e03f56-aaf0-4174-b6eb-983b6372f92a",
   "metadata": {},
   "outputs": [],
   "source": [
    "df = df.withColumn(\"transaction_date\",\n",
    "              F.coalesce(\n",
    "                  F.to_date(\"transaction_date\", \"yyyy-MM-dd\"),\n",
    "                  F.to_date(\"transaction_date\", \"yyyy/MM/dd\"),\n",
    "                  F.to_date(\"transaction_date\", \"dd-MM-yyyy\"),\n",
    "                  F.to_date(\"transaction_date\", \"dd/MM/yyyy\")\n",
    "              ))"
   ]
  },
  {
   "cell_type": "code",
   "execution_count": 12,
   "id": "07758627-278a-4d24-b93b-a829384a5e28",
   "metadata": {},
   "outputs": [],
   "source": [
    "df = df.withColumn(\"merchant\", F.trim(F.initcap(F.regexp_replace(F.col(\"merchant\"), \"\\s{2,}\", \" \"))))"
   ]
  },
  {
   "cell_type": "code",
   "execution_count": 13,
   "id": "3ad3eff9-ec46-43ab-bef9-069d235be79e",
   "metadata": {},
   "outputs": [],
   "source": [
    "df = df.withColumn(\"category\", F.trim(F.initcap(F.regexp_replace(F.col(\"category\"), \"\\s{2,}\", \" \"))))"
   ]
  },
  {
   "cell_type": "code",
   "execution_count": 14,
   "id": "087af62c-41f0-4a1e-86ec-a464fb55171e",
   "metadata": {},
   "outputs": [],
   "source": [
    "df = df.withColumn(\"payment_method\", F.trim(F.initcap(F.regexp_replace(F.col(\"payment_method\"), \"\\s{2,}\", \" \"))))"
   ]
  },
  {
   "cell_type": "code",
   "execution_count": 15,
   "id": "0a7285e0-b936-4d05-9110-66439624512c",
   "metadata": {},
   "outputs": [],
   "source": [
    "df = df.withColumn(\"city\", F.initcap(F.trim(F.regexp_replace(F.col(\"city\"), \"\\s{2,}\", \" \"))))"
   ]
  },
  {
   "cell_type": "code",
   "execution_count": 16,
   "id": "34c908ef-ad37-4a68-8b98-48b8fc29f66b",
   "metadata": {},
   "outputs": [],
   "source": [
    "df = df.withColumn(\"country\", F.initcap(F.trim(F.col(\"country\"))))"
   ]
  },
  {
   "cell_type": "code",
   "execution_count": 17,
   "id": "05fcd584-2574-4431-827a-afa1d8c2fe25",
   "metadata": {},
   "outputs": [],
   "source": [
    "df = df.withColumn(\"status\", F.initcap(F.trim(F.col(\"status\"))))"
   ]
  },
  {
   "cell_type": "markdown",
   "id": "0c51a0b6-8e63-4a88-ade0-fd1879447d0a",
   "metadata": {},
   "source": [
    "### Correct Data Types"
   ]
  },
  {
   "cell_type": "code",
   "execution_count": 18,
   "id": "c110daa1-21f5-400b-aafa-ec813d3013da",
   "metadata": {},
   "outputs": [],
   "source": [
    "df = df.withColumn(\"amount\", F.round(F.col(\"amount\").cast(\"Float\"), 2))"
   ]
  },
  {
   "cell_type": "markdown",
   "id": "0bf13cb6-c9e1-48d6-9a7b-f8471fe34ab0",
   "metadata": {},
   "source": [
    "### Handle Missing Values"
   ]
  },
  {
   "cell_type": "code",
   "execution_count": 19,
   "id": "ec434d4f-5dd7-42b1-83de-09fa5d8e8bce",
   "metadata": {},
   "outputs": [],
   "source": [
    "median_amount = df.select(\"amount\").agg({\"amount\": \"median\"}).collect()[0][0]"
   ]
  },
  {
   "cell_type": "code",
   "execution_count": 20,
   "id": "7bc14943-dbbb-4611-b2de-736b25819dcc",
   "metadata": {},
   "outputs": [],
   "source": [
    "df = df.na.fill(median_amount, subset=[\"amount\"])"
   ]
  },
  {
   "cell_type": "code",
   "execution_count": 21,
   "id": "4c9988f6-e7d7-45f1-910f-85866cacb2e5",
   "metadata": {},
   "outputs": [
    {
     "name": "stdout",
     "output_type": "stream",
     "text": [
      "+--------------+-----------+----------------+-------+-------------+-----------------+--------------+----------+--------+---------+\n",
      "|transaction_id|customer_id|transaction_date| amount|     merchant|         category|payment_method|      city| country|   status|\n",
      "+--------------+-----------+----------------+-------+-------------+-----------------+--------------+----------+--------+---------+\n",
      "|         T0001|       C164|      2025-09-16|  714.9|  Tops Market|Mobile & Internet|   Credit Card| Khon Kaen|Thailand|   Failed|\n",
      "|         T0002|       C167|      2025-09-23| 2250.9|Central World|         Shopping|     Promptpay|    Phuket|Thailand|  Pending|\n",
      "|         T0003|       C025|      2025-09-20|3654.06| Scb Easy Pay|         Shopping|          Cash|   Hat Yai|Thailand|   Failed|\n",
      "|         T0004|       C059|      2025-09-19|1913.03|   Truemove H|         Shopping|          Cash|   Hat Yai|Thailand|   Failed|\n",
      "|         T0005|       C187|      2025-09-18|4628.45| Bts Skytrain|  Food & Beverage|   Credit Card|   Pattaya|Thailand|Completed|\n",
      "|         T0006|       C146|      2025-09-20|4574.45|         Grab|        Groceries|          Cash|   Pattaya|Thailand|Completed|\n",
      "|         T0007|       C036|      2025-09-23|-263.82| Scb Easy Pay|Mobile & Internet|         Debit| Khon Kaen|Thailand|   Failed|\n",
      "|         T0008|       C138|      2025-09-19|2279.54|         Grab|        Transport|   Credit Card|    Phuket|Thailand|  Pending|\n",
      "|         T0009|       C196|      2025-09-17|  577.1|         Grab|        Transport|   Credit Card|   Pattaya|Thailand|Completed|\n",
      "|         T0010|       C169|      2025-09-22|2127.23|  Tops Market|        Groceries|          Cash|   Hat Yai|Thailand|   Failed|\n",
      "|         T0011|       C116|      2025-09-16|2949.78|         NULL|        Groceries|          NULL|   Bangkok|Thailand|   Failed|\n",
      "|         T0012|       C061|      2025-09-19|4678.86|  Amazon Café|Mobile & Internet|     Promptpay|   Hat Yai|Thailand|  Pending|\n",
      "|         T0013|       C106|      2025-09-22| 510.12|   Truemove H|  Food & Beverage|     Promptpay|Chiang Mai|Thailand|  Pending|\n",
      "|         T0014|       C119|      2025-09-18|2760.62|  Tops Market|  Food & Beverage|     Promptpay|   Pattaya|Thailand|  Pending|\n",
      "|         T0015|       C016|      2025-09-17|    0.0|  Amazon Café|        Groceries|         Debit|    Phuket|Thailand|   Failed|\n",
      "|         T0016|       C189|      2025-09-23| 2929.2|  Tops Market|    Entertainment|          NULL|   Bangkok|Thailand|Completed|\n",
      "|         T0017|       C146|      2025-09-18|2926.69|         Grab|        Groceries|          Cash|   Hat Yai|Thailand|  Pending|\n",
      "|         T0018|       C193|      2025-09-16|4980.56| Bts Skytrain|        Transport|   Credit Card|    Phuket|Thailand|  Pending|\n",
      "|         T0019|       C140|      2025-09-19|4660.15|Central World|  Food & Beverage|     Promptpay| Khon Kaen|Thailand|Completed|\n",
      "|         T0020|       C176|      2025-09-25|4542.63| Scb Easy Pay|             NULL|     Promptpay|    Phuket|Thailand|   Failed|\n",
      "+--------------+-----------+----------------+-------+-------------+-----------------+--------------+----------+--------+---------+\n",
      "only showing top 20 rows\n",
      "\n"
     ]
    }
   ],
   "source": [
    "df.show()"
   ]
  },
  {
   "cell_type": "markdown",
   "id": "d97e0353-46b4-495a-bf57-2a9d1d5d3e1c",
   "metadata": {},
   "source": [
    "### Drop Duplicate Values"
   ]
  },
  {
   "cell_type": "code",
   "execution_count": 22,
   "id": "6e04c12f-2a90-44e8-98c1-cfca872726d8",
   "metadata": {},
   "outputs": [],
   "source": [
    "df = df.dropDuplicates(subset=[\"transaction_id\"])"
   ]
  },
  {
   "cell_type": "code",
   "execution_count": 23,
   "id": "82843808-a9cc-45a4-8890-51cc2ed647a7",
   "metadata": {},
   "outputs": [
    {
     "name": "stdout",
     "output_type": "stream",
     "text": [
      "+--------------+-----------+----------------+-------+-------------+-----------------+--------------+----------+--------+---------+\n",
      "|transaction_id|customer_id|transaction_date| amount|     merchant|         category|payment_method|      city| country|   status|\n",
      "+--------------+-----------+----------------+-------+-------------+-----------------+--------------+----------+--------+---------+\n",
      "|         T0001|       C164|      2025-09-16|  714.9|  Tops Market|Mobile & Internet|   Credit Card| Khon Kaen|Thailand|   Failed|\n",
      "|         T0002|       C167|      2025-09-23| 2250.9|Central World|         Shopping|     Promptpay|    Phuket|Thailand|  Pending|\n",
      "|         T0003|       C025|      2025-09-20|3654.06| Scb Easy Pay|         Shopping|          Cash|   Hat Yai|Thailand|   Failed|\n",
      "|         T0004|       C059|      2025-09-19|1913.03|   Truemove H|         Shopping|          Cash|   Hat Yai|Thailand|   Failed|\n",
      "|         T0005|       C187|      2025-09-18|4628.45| Bts Skytrain|  Food & Beverage|   Credit Card|   Pattaya|Thailand|Completed|\n",
      "|         T0006|       C146|      2025-09-20|4574.45|         Grab|        Groceries|          Cash|   Pattaya|Thailand|Completed|\n",
      "|         T0007|       C036|      2025-09-23|-263.82| Scb Easy Pay|Mobile & Internet|         Debit| Khon Kaen|Thailand|   Failed|\n",
      "|         T0008|       C138|      2025-09-19|2279.54|         Grab|        Transport|   Credit Card|    Phuket|Thailand|  Pending|\n",
      "|         T0009|       C196|      2025-09-17|  577.1|         Grab|        Transport|   Credit Card|   Pattaya|Thailand|Completed|\n",
      "|         T0010|       C169|      2025-09-22|2127.23|  Tops Market|        Groceries|          Cash|   Hat Yai|Thailand|   Failed|\n",
      "|         T0011|       C116|      2025-09-16|2949.78|         NULL|        Groceries|          NULL|   Bangkok|Thailand|   Failed|\n",
      "|         T0012|       C061|      2025-09-19|4678.86|  Amazon Café|Mobile & Internet|     Promptpay|   Hat Yai|Thailand|  Pending|\n",
      "|         T0013|       C106|      2025-09-22| 510.12|   Truemove H|  Food & Beverage|     Promptpay|Chiang Mai|Thailand|  Pending|\n",
      "|         T0014|       C119|      2025-09-18|2760.62|  Tops Market|  Food & Beverage|     Promptpay|   Pattaya|Thailand|  Pending|\n",
      "|         T0015|       C016|      2025-09-17|    0.0|  Amazon Café|        Groceries|         Debit|    Phuket|Thailand|   Failed|\n",
      "|         T0016|       C189|      2025-09-23| 2929.2|  Tops Market|    Entertainment|          NULL|   Bangkok|Thailand|Completed|\n",
      "|         T0017|       C146|      2025-09-18|2926.69|         Grab|        Groceries|          Cash|   Hat Yai|Thailand|  Pending|\n",
      "|         T0018|       C193|      2025-09-16|4980.56| Bts Skytrain|        Transport|   Credit Card|    Phuket|Thailand|  Pending|\n",
      "|         T0019|       C140|      2025-09-19|4660.15|Central World|  Food & Beverage|     Promptpay| Khon Kaen|Thailand|Completed|\n",
      "|         T0020|       C176|      2025-09-25|4542.63| Scb Easy Pay|             NULL|     Promptpay|    Phuket|Thailand|   Failed|\n",
      "+--------------+-----------+----------------+-------+-------------+-----------------+--------------+----------+--------+---------+\n",
      "only showing top 20 rows\n",
      "\n"
     ]
    }
   ],
   "source": [
    "df.show()"
   ]
  },
  {
   "cell_type": "markdown",
   "id": "10d94c78-3e03-4210-b9ca-f2ca5a786bd3",
   "metadata": {},
   "source": [
    "### Save Data to GCS"
   ]
  },
  {
   "cell_type": "code",
   "execution_count": 24,
   "id": "c0e3f947-83d3-45b6-9993-3b8bc93ef8fa",
   "metadata": {},
   "outputs": [],
   "source": [
    "df.write.mode(\"overwrite\").parquet(\"gs://supawat-workshop-bucket/clean_data/financial_transactions_parquet\")"
   ]
  },
  {
   "cell_type": "code",
   "execution_count": 25,
   "id": "2a16f8cc-13e8-429d-a765-7d78ecfd0225",
   "metadata": {},
   "outputs": [],
   "source": [
    "df_test = spark.read.parquet(\"gs://supawat-workshop-bucket/clean_data/financial_transactions_parquet/*\")"
   ]
  },
  {
   "cell_type": "code",
   "execution_count": 26,
   "id": "1233fdb5-e9ee-4f50-9d67-d8e35016b904",
   "metadata": {},
   "outputs": [
    {
     "name": "stdout",
     "output_type": "stream",
     "text": [
      "+--------------+-----------+----------------+-------+-------------+-----------------+--------------+----------+--------+---------+\n",
      "|transaction_id|customer_id|transaction_date| amount|     merchant|         category|payment_method|      city| country|   status|\n",
      "+--------------+-----------+----------------+-------+-------------+-----------------+--------------+----------+--------+---------+\n",
      "|         T0001|       C164|      2025-09-16|  714.9|  Tops Market|Mobile & Internet|   Credit Card| Khon Kaen|Thailand|   Failed|\n",
      "|         T0002|       C167|      2025-09-23| 2250.9|Central World|         Shopping|     Promptpay|    Phuket|Thailand|  Pending|\n",
      "|         T0003|       C025|      2025-09-20|3654.06| Scb Easy Pay|         Shopping|          Cash|   Hat Yai|Thailand|   Failed|\n",
      "|         T0004|       C059|      2025-09-19|1913.03|   Truemove H|         Shopping|          Cash|   Hat Yai|Thailand|   Failed|\n",
      "|         T0005|       C187|      2025-09-18|4628.45| Bts Skytrain|  Food & Beverage|   Credit Card|   Pattaya|Thailand|Completed|\n",
      "|         T0006|       C146|      2025-09-20|4574.45|         Grab|        Groceries|          Cash|   Pattaya|Thailand|Completed|\n",
      "|         T0007|       C036|      2025-09-23|-263.82| Scb Easy Pay|Mobile & Internet|         Debit| Khon Kaen|Thailand|   Failed|\n",
      "|         T0008|       C138|      2025-09-19|2279.54|         Grab|        Transport|   Credit Card|    Phuket|Thailand|  Pending|\n",
      "|         T0009|       C196|      2025-09-17|  577.1|         Grab|        Transport|   Credit Card|   Pattaya|Thailand|Completed|\n",
      "|         T0010|       C169|      2025-09-22|2127.23|  Tops Market|        Groceries|          Cash|   Hat Yai|Thailand|   Failed|\n",
      "|         T0011|       C116|      2025-09-16|2949.78|         NULL|        Groceries|          NULL|   Bangkok|Thailand|   Failed|\n",
      "|         T0012|       C061|      2025-09-19|4678.86|  Amazon Café|Mobile & Internet|     Promptpay|   Hat Yai|Thailand|  Pending|\n",
      "|         T0013|       C106|      2025-09-22| 510.12|   Truemove H|  Food & Beverage|     Promptpay|Chiang Mai|Thailand|  Pending|\n",
      "|         T0014|       C119|      2025-09-18|2760.62|  Tops Market|  Food & Beverage|     Promptpay|   Pattaya|Thailand|  Pending|\n",
      "|         T0015|       C016|      2025-09-17|    0.0|  Amazon Café|        Groceries|         Debit|    Phuket|Thailand|   Failed|\n",
      "|         T0016|       C189|      2025-09-23| 2929.2|  Tops Market|    Entertainment|          NULL|   Bangkok|Thailand|Completed|\n",
      "|         T0017|       C146|      2025-09-18|2926.69|         Grab|        Groceries|          Cash|   Hat Yai|Thailand|  Pending|\n",
      "|         T0018|       C193|      2025-09-16|4980.56| Bts Skytrain|        Transport|   Credit Card|    Phuket|Thailand|  Pending|\n",
      "|         T0019|       C140|      2025-09-19|4660.15|Central World|  Food & Beverage|     Promptpay| Khon Kaen|Thailand|Completed|\n",
      "|         T0020|       C176|      2025-09-25|4542.63| Scb Easy Pay|             NULL|     Promptpay|    Phuket|Thailand|   Failed|\n",
      "+--------------+-----------+----------------+-------+-------------+-----------------+--------------+----------+--------+---------+\n",
      "only showing top 20 rows\n",
      "\n"
     ]
    }
   ],
   "source": [
    "df_test.show()"
   ]
  },
  {
   "cell_type": "code",
   "execution_count": null,
   "id": "4500919f-5b76-4cb7-8d57-7a3a713528a4",
   "metadata": {},
   "outputs": [],
   "source": []
  }
 ],
 "metadata": {
  "kernelspec": {
   "display_name": "Python 3",
   "language": "python",
   "name": "python3"
  },
  "language_info": {
   "codemirror_mode": {
    "name": "ipython",
    "version": 3
   },
   "file_extension": ".py",
   "mimetype": "text/x-python",
   "name": "python",
   "nbconvert_exporter": "python",
   "pygments_lexer": "ipython3",
   "version": "3.9.13"
  }
 },
 "nbformat": 4,
 "nbformat_minor": 5
}
